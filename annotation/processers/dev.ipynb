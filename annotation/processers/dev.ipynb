{
 "cells": [
  {
   "cell_type": "code",
   "execution_count": 1,
   "metadata": {},
   "outputs": [],
   "source": [
    "import sqlite3\n",
    "import pandas as pd\n",
    "import numpy as np\n",
    "import random\n",
    "\n",
    "    # db_root = '/mnt/FastDisk/GeJunYao/VLP/databases'\n",
    "    # annotation_db = 'annotation.db'\n",
    "    # annotation_meta_db = 'annotation_meta.db'\n",
    "ANNOTATION_DB = '/mnt/FastDisk/GeJunYao/VLP/databases/annotation.db'\n",
    "\n",
    "conn = sqlite3.connect(ANNOTATION_DB)"
   ]
  },
  {
   "cell_type": "markdown",
   "metadata": {},
   "source": [
    "## add prompt template for caption rewrite"
   ]
  },
  {
   "cell_type": "code",
   "execution_count": 2,
   "metadata": {},
   "outputs": [],
   "source": [
    "DESCRIPTION = \"A prompt for LLM without instruction-tuning. This prompt is designed for caption rewrite task with 5 examples shots.\"\n",
    "\n",
    "PROMPT = \"\"\"###Instruction###\n",
    "\n",
    "Revise a description (caption) of a remote sensing image scene. The scene, spanning approximately 72,253 square meters, is oriented with west on the left and north at the top. The coordinate (0, 0) is positioned at the left-bottom corner. The task is to transform the original sentence while preserving its meaning, into five varied versions. These revisions should differ in length, ranging from 20 to 50 words, and in tone. \n",
    "    \n",
    "###EXAMPLE###\n",
    "\n",
    "####EXAMPLE1####\n",
    "Raw:\n",
    "{example1_raw}\n",
    "Revised:\n",
    "{example1_revised}\n",
    "\n",
    "####EXAMPLE2####\n",
    "Raw:\n",
    "{example2_raw}\n",
    "Revised:\n",
    "{example2_revised}\n",
    "\n",
    "\n",
    "####EXAMPLE3####\n",
    "Raw:\n",
    "{example3_raw}\n",
    "Revised:\n",
    "{example3_revised}\n",
    "\n",
    "\n",
    "####EXAMPLE4####\n",
    "Raw:\n",
    "{example4_raw}\n",
    "Revised:\n",
    "{example4_revised}\n",
    "\n",
    "\n",
    "####EXAMPLE5####\n",
    "Raw:\n",
    "{example5_raw}\n",
    "Revised:\n",
    "{example5_revised}\n",
    "\n",
    "###TASK###\n",
    "Raw: \n",
    "{raw}\n",
    "Revised:\n",
    "\"\"\"\n",
    "\n",
    "# Type larger than 10 for tasks other than caption genration.\n",
    "TYPE=11\n",
    "\n",
    "# c = conn.cursor()\n",
    "# c.execute(\"INSERT INTO prompt (description, prompt, type) VALUES (?, ?, ?)\", (DESCRIPTION, PROMPT, TYPE))\n",
    "# # link prompt with annotator\n",
    "# c.execute(\"INSERT INTO annotator_prompt (PROMPT, ANNOTATOR) VALUES (?, ?)\", (c.lastrowid, 1))\n",
    "# conn.commit()"
   ]
  },
  {
   "cell_type": "code",
   "execution_count": 3,
   "metadata": {},
   "outputs": [],
   "source": [
    "# import sqlite3\n",
    "# create a sqlite database for storing rewrite examples\n",
    "REWRITES_DB = \"/mnt/FastDisk/GeJunYao/VLP/databases/annotation_meta.db\"\n",
    "\n",
    "anno_meta_conn = sqlite3.connect(REWRITES_DB)\n",
    "\n",
    "# create a table for storing rewrite examples\n",
    "# SQL_CREATE_REWRITE_RAW_TABLE = \"\"\" CREATE TABLE IF NOT EXISTS rewrite_raw (\n",
    "#                                         id integer PRIMARY KEY AUTOINCREMENT,\n",
    "#                                         patch_id integer NOT NULL,\n",
    "#                                         prompt_id integer NOT NULL,\n",
    "#                                         text text NOT NULL)\"\"\"\n",
    "                                        \n",
    "# SQL_CREATE_REWRITE_EXAMPLES_TABLE = \"\"\" CREATE TABLE IF NOT EXISTS rewrite_examples (\n",
    "#                                         id integer PRIMARY KEY AUTOINCREMENT,\n",
    "#                                         rewrite_raw_id integer NOT NULL,\n",
    "#                                         rewrite_text text NOT NULL,\n",
    "#                                         FOREIGN KEY (rewrite_raw_id) REFERENCES rewrite_raw(id))\"\"\"\n",
    "                                        \n",
    "# # create the tables\n",
    "# anno_meta_conn.execute(SQL_CREATE_REWRITE_RAW_TABLE)\n",
    "# anno_meta_conn.execute(SQL_CREATE_REWRITE_EXAMPLES_TABLE)\n",
    "\n",
    "# close the connection\n",
    "# anno_meta_conn.close()"
   ]
  },
  {
   "cell_type": "code",
   "execution_count": 22,
   "metadata": {},
   "outputs": [],
   "source": [
    "c = conn.cursor()\n",
    "c.execute(\"SELECT * FROM annotation\")\n",
    "annotation_table = pd.DataFrame(c.fetchall(), columns=[desc[0] for desc in c.description])\n",
    "c.execute(\"SELECT * FROM annotator_prompt\")\n",
    "annotator_prompt_table = pd.DataFrame(c.fetchall(), columns=[desc[0] for desc in c.description])\n",
    "c.execute(\"SELECT * FROM annotation_osm\")\n",
    "annotation_osm_table = pd.DataFrame(c.fetchall(), columns=[desc[0] for desc in c.description])\n",
    "\n",
    "# load prompt template for rewrite into memory\n",
    "c.execute(\"select * from prompt where type = 11\")\n",
    "prompt_template = pd.DataFrame(c.fetchall(), columns=[desc[0] for desc in c.description])\n",
    "\n",
    "# load rewrite examples into memory\n",
    "c_meta = anno_meta_conn.cursor()\n",
    "c_meta.execute('select * from rewrite_raw')\n",
    "rewrite_raw_table = pd.DataFrame(c_meta.fetchall(), columns=[desc[0] for desc in c_meta.description])\n",
    "c_meta.execute('select * from rewrite_examples')\n",
    "rewrite_examples_table = pd.DataFrame(c_meta.fetchall(), columns=[desc[0] for desc in c_meta.description])\n",
    "\n",
    "# exclude the broken patch ids\n",
    "annotation_table['patch_valid'] = annotation_table['PATCH'].apply(lambda x: isinstance(x, int))\n",
    "annotation_table = annotation_table[annotation_table['patch_valid'] == True]\n",
    "# count the number of duplicate annotations\n",
    "duplicate_count = annotation_table.groupby(['PATCH']).size().reset_index(name='count')\n",
    "\n",
    "# keep the patches with less than max_rewrites annotations\n",
    "valid_patches = duplicate_count[duplicate_count['count'] <= 5]['PATCH']\n",
    "\n",
    "# sample prefetch_size patches randomly\n",
    "sampled_patches = np.random.choice(valid_patches, 10, replace=False).tolist()"
   ]
  },
  {
   "cell_type": "code",
   "execution_count": 17,
   "metadata": {},
   "outputs": [],
   "source": [
    "# annotation_table['patch_broken'] = annotation_table['PATCH'].apply(lambda x: isinstance(x, bytes))\n",
    "# # TODO: validate the code to see if the recovered data is correct.\n",
    "# broken_data = annotation_table[annotation_table['patch_broken']==True]\n",
    "# broken_data['recover'] = broken_data['PATCH'].apply(lambda x: int.from_bytes(x, byteorder='little'))\n",
    "# broken_data\n"
   ]
  },
  {
   "cell_type": "code",
   "execution_count": 13,
   "metadata": {},
   "outputs": [
    {
     "data": {
      "text/plain": [
       "377410    1\n",
       "Name: PROMPT, dtype: int64"
      ]
     },
     "execution_count": 13,
     "metadata": {},
     "output_type": "execute_result"
    }
   ],
   "source": [
    "ori_prompt_id"
   ]
  },
  {
   "cell_type": "code",
   "execution_count": 25,
   "metadata": {},
   "outputs": [],
   "source": [
    "# find the corresponding annotation according to the patch id\n",
    "data = sampled_patches.pop()\n",
    "annotation_row = annotation_table[annotation_table['PATCH'] == data]\n",
    "annotation_row.loc[:, 'CREATED_AT'] = pd.to_datetime(annotation_row['CREATED_AT'])\n",
    "# find the oldest annotation as the base for the rewrite\n",
    "oldest_annotation = annotation_row.loc[annotation_row['CREATED_AT'] == annotation_row['CREATED_AT'].min()]\n",
    "# # extract the first row as a data series\n",
    "oldest_annotation = oldest_annotation.iloc[0]\n",
    "# find the corresponding annotator prompt\n",
    "ori_prompt_id = oldest_annotation['PROMPT']\n",
    "# find the rewrites\n",
    "rewrite_examples = rewrite_raw_table[rewrite_raw_table['prompt_id']==ori_prompt_id].\\\n",
    "                    merge(rewrite_examples_table, left_on='id', right_on='rewrite_raw_id', how='left')\n",
    "selected_examples = []\n",
    "for i, table in rewrite_examples.groupby('rewrite_raw_id'):\n",
    "    row = table.sample(n=1).iloc[0]\n",
    "    selected_examples.append(row)\n"
   ]
  },
  {
   "cell_type": "code",
   "execution_count": 76,
   "metadata": {},
   "outputs": [
    {
     "data": {
      "text/html": [
       "<div>\n",
       "<style scoped>\n",
       "    .dataframe tbody tr th:only-of-type {\n",
       "        vertical-align: middle;\n",
       "    }\n",
       "\n",
       "    .dataframe tbody tr th {\n",
       "        vertical-align: top;\n",
       "    }\n",
       "\n",
       "    .dataframe thead th {\n",
       "        text-align: right;\n",
       "    }\n",
       "</style>\n",
       "<table border=\"1\" class=\"dataframe\">\n",
       "  <thead>\n",
       "    <tr style=\"text-align: right;\">\n",
       "      <th></th>\n",
       "      <th>ID</th>\n",
       "      <th>DESCRIPTION</th>\n",
       "      <th>PROMPT</th>\n",
       "      <th>TYPE</th>\n",
       "      <th>CREATED_AT</th>\n",
       "    </tr>\n",
       "  </thead>\n",
       "  <tbody>\n",
       "    <tr>\n",
       "      <th>0</th>\n",
       "      <td>4</td>\n",
       "      <td>A prompt for LLM without instruction-tuning. T...</td>\n",
       "      <td>\"###Instruction###\\n\\nRevise a description (ca...</td>\n",
       "      <td>11</td>\n",
       "      <td>2024-04-03 10:58:20</td>\n",
       "    </tr>\n",
       "  </tbody>\n",
       "</table>\n",
       "</div>"
      ],
      "text/plain": [
       "   ID                                        DESCRIPTION  \\\n",
       "0   4  A prompt for LLM without instruction-tuning. T...   \n",
       "\n",
       "                                              PROMPT  TYPE  \\\n",
       "0  \"###Instruction###\\n\\nRevise a description (ca...    11   \n",
       "\n",
       "            CREATED_AT  \n",
       "0  2024-04-03 10:58:20  "
      ]
     },
     "execution_count": 76,
     "metadata": {},
     "output_type": "execute_result"
    }
   ],
   "source": [
    "prompt_template"
   ]
  },
  {
   "cell_type": "code",
   "execution_count": 92,
   "metadata": {},
   "outputs": [],
   "source": [
    "# shuffle the examples\n",
    "random.shuffle(selected_examples)\n",
    "# sample a prompt template\n",
    "prompt_id, template = prompt_template.sample(n=1).iloc[0][['ID', 'PROMPT']]\n",
    "# combine the selected examples and the prompt template\n",
    "format_kwargs = dict()\n",
    "for i, example in enumerate(selected_examples):\n",
    "    example_id = f'example{i+1}'\n",
    "    format_kwargs[example_id+'_raw'] = example['text']\n",
    "    format_kwargs[example_id+'_revised'] = example['rewrite_text']\n",
    "format_kwargs['raw'] = oldest_annotation['ANNOTATION']\n",
    "\n",
    "formated_prompt = template.format(**format_kwargs)"
   ]
  },
  {
   "cell_type": "code",
   "execution_count": 72,
   "metadata": {},
   "outputs": [],
   "source": [
    "# get the osm ids related to the given annotation id\n",
    "anno_id = oldest_annotation['ID']\n",
    "osm_ids = annotation_osm_table[annotation_osm_table['ANNOTATION'] == anno_id]['OSM_ID'].tolist()"
   ]
  },
  {
   "cell_type": "code",
   "execution_count": 74,
   "metadata": {},
   "outputs": [
    {
     "data": {
      "text/plain": [
       "ID                                                        303034\n",
       "PATCH                                                      70346\n",
       "ANNOTATION     A large industrial area is located at the righ...\n",
       "NUM_ELEMS                                                      1\n",
       "ANNOTATOR                                                      1\n",
       "PROMPT                                                         1\n",
       "CREATED_AT                                   2024-03-06 23:52:48\n",
       "patch_valid                                                 True\n",
       "Name: 303033, dtype: object"
      ]
     },
     "execution_count": 74,
     "metadata": {},
     "output_type": "execute_result"
    }
   ],
   "source": [
    "oldest_annotation"
   ]
  },
  {
   "cell_type": "code",
   "execution_count": 95,
   "metadata": {},
   "outputs": [],
   "source": [
    "# select valid annotator ids\n",
    "valid_annotators = annotator_prompt_table[annotator_prompt_table['PROMPT']==prompt_id]['ANNOTATOR'].tolist()\n",
    "# build the task\n",
    "task = dict(type='annotation_task',\n",
    "            prompt=formated_prompt,\n",
    "            osm_ids=osm_ids,\n",
    "            patch_id=oldest_annotation['PATCH'],\n",
    "            prompt_id=ori_prompt_id,\n",
    "            valid_annotator_ids=valid_annotators)\n",
    "\n"
   ]
  },
  {
   "cell_type": "code",
   "execution_count": 96,
   "metadata": {},
   "outputs": [
    {
     "data": {
      "text/plain": [
       "{'type': 'annotation_task',\n",
       " 'prompt': '\"###Instruction###\\n\\nRevise a description (caption) of a remote sensing image scene. The scene, spanning approximately 72,253 square meters, is oriented with west on the left and north at the top. The coordinate (0, 0) is positioned at the left-bottom corner. The task is to transform the original sentence while preserving its meaning, into five varied versions. These revisions should differ in length, ranging from 20 to 50 words, and in tone. \\n    \\n###EXAMPLE###\\n\\n####EXAMPLE1####\\nRaw:\\nA nursing home for seniors is located at the right-top of the image patch. It has an irregular boundary with a normalized size of 0.063 which means it covers less than 10% of the image patch. It is likely a building with social facilities.\\nRevised:\\nPositioned at the image\\'s northeast corner, a nursing home occupies less than 10% of the scene, its boundaries irregular, hinting at social service functions. \\n\\n####EXAMPLE2####\\nRaw:\\nThe Yellow Lake State Forest, a protected area, is located at the bottom-center of the image patch. It has a rectangular shape and occupies 0.546 of the image patch. It is accessible to the public and has a boundary that is protected. It is a nature reserve and has a protection class of 6. It is related to the New York State Constitution, Article XIV. The source of the information is http://gis.ny.gov/gisdata/inventories/details.cfm?DSID=1114.\\nRevised:\\nThe image prominently features Yellow Lake State Forest at the bottom-center, a Class 6 protected area under New York\\'s Article XIV, accessible to the public.\\n\\n\\n####EXAMPLE3####\\nRaw:\\nA forested area is located at the left-bottom of the image patch. It covers a small portion of the image patch and is likely to be managed for timber production. It is likely to be part of a larger forested area.\\nRevised:\\nThe image reveals a forested patch at its left-bottom, covering a minor fraction and likely integrated into extensive timber management efforts within a larger forest expanse.\\n\\n\\n####EXAMPLE4####\\nRaw:\\nA commercial area is located at the bottom-center of the image patch. It has an irregular boundary with a normalized size of 0.311 which means it covers more than one-third of the image patch. It is likely to have buildings and other structures.\\nRevised:\\nA distinct commercial area, marked by its non-uniform shape, dominates the bottom-center of the image, extending across more than a third of the patch, likely a cluster of architectural structures.\\n\\n\\n####EXAMPLE5####\\nRaw:\\nThe largest area in the image patch is a rectangular campground named Scaroon Manor Campground. It occupies almost the entire image patch. It is protected by the New York State Constitution, Article XIV. It is a camping site with religious significance. It is likely to have tents, camper vans, or caravans. There could be other recreational activities taking place in the area.\\nRevised:\\nPredominantly, the image showcases Scaroon Manor Campground, a protected area under New York\\'s Article XIV, serving as a religious camping site possibly filled with tents or caravans.\\n\\n###TASK###\\ninput: \\nA large industrial area is located at the right-center of the image patch. It has a rectangular shape and occupies a small portion of the image patch. It is likely to have factories, warehouses, and other industrial buildings.\\nRevised:',\n",
       " 'osm_ids': [723889272],\n",
       " 'patch_id': 70346,\n",
       " 'prompt_id': 1,\n",
       " 'valid_annotator_ids': [1]}"
      ]
     },
     "execution_count": 96,
     "metadata": {},
     "output_type": "execute_result"
    }
   ],
   "source": [
    "task"
   ]
  },
  {
   "cell_type": "code",
   "execution_count": 70,
   "metadata": {},
   "outputs": [
    {
     "name": "stdout",
     "output_type": "stream",
     "text": [
      "\"###Instruction###\n",
      "\n",
      "Revise a description (caption) of a remote sensing image scene. The scene, spanning approximately 72,253 square meters, is oriented with west on the left and north at the top. The coordinate (0, 0) is positioned at the left-bottom corner. The task is to transform the original sentence while preserving its meaning, into five varied versions. These revisions should differ in length, ranging from 20 to 50 words, and in tone. \n",
      "    \n",
      "###EXAMPLE###\n",
      "\n",
      "####EXAMPLE1####\n",
      "Raw:\n",
      "The Yellow Lake State Forest, a protected area, is located at the bottom-center of the image patch. It has a rectangular shape and occupies 0.546 of the image patch. It is accessible to the public and has a boundary that is protected. It is a nature reserve and has a protection class of 6. It is related to the New York State Constitution, Article XIV. The source of the information is http://gis.ny.gov/gisdata/inventories/details.cfm?DSID=1114.\n",
      "Revised:\n",
      "The image prominently features Yellow Lake State Forest at the bottom-center, a Class 6 protected area under New York's Article XIV, accessible to the public.\n",
      "\n",
      "####EXAMPLE2####\n",
      "Raw:\n",
      "A commercial area is located at the bottom-center of the image patch. It has an irregular boundary with a normalized size of 0.311 which means it covers more than one-third of the image patch. It is likely to have buildings and other structures.\n",
      "Revised:\n",
      "A distinct commercial area, marked by its non-uniform shape, dominates the bottom-center of the image, extending across more than a third of the patch, likely a cluster of architectural structures.\n",
      "\n",
      "\n",
      "####EXAMPLE3####\n",
      "Raw:\n",
      "A nursing home for seniors is located at the right-top of the image patch. It has an irregular boundary with a normalized size of 0.063 which means it covers less than 10% of the image patch. It is likely a building with social facilities.\n",
      "Revised:\n",
      "Positioned at the image's northeast corner, a nursing home occupies less than 10% of the scene, its boundaries irregular, hinting at social service functions. \n",
      "\n",
      "\n",
      "####EXAMPLE4####\n",
      "Raw:\n",
      "A forested area is located at the left-bottom of the image patch. It covers a small portion of the image patch and is likely to be managed for timber production. It is likely to be part of a larger forested area.\n",
      "Revised:\n",
      "The image reveals a forested patch at its left-bottom, covering a minor fraction and likely integrated into extensive timber management efforts within a larger forest expanse.\n",
      "\n",
      "\n",
      "####EXAMPLE5####\n",
      "Raw:\n",
      "The largest area in the image patch is a rectangular campground named Scaroon Manor Campground. It occupies almost the entire image patch. It is protected by the New York State Constitution, Article XIV. It is a camping site with religious significance. It is likely to have tents, camper vans, or caravans. There could be other recreational activities taking place in the area.\n",
      "Revised:\n",
      "Predominantly, the image showcases Scaroon Manor Campground, a protected area under New York's Article XIV, serving as a religious camping site possibly filled with tents or caravans.\n",
      "\n",
      "###TASK###\n",
      "input: \n",
      "A large industrial area is located at the right-center of the image patch. It has a rectangular shape and occupies a small portion of the image patch. It is likely to have factories, warehouses, and other industrial buildings.\n",
      "Revised:\n"
     ]
    }
   ],
   "source": [
    "print(formated_prompt)"
   ]
  },
  {
   "cell_type": "code",
   "execution_count": null,
   "metadata": {},
   "outputs": [],
   "source": [
    "####EXAMPLE1####\n",
    "# Raw:\n",
    "# {example1_raw}\n",
    "# Revised:\n",
    "# {example1_revised}"
   ]
  },
  {
   "cell_type": "code",
   "execution_count": 60,
   "metadata": {},
   "outputs": [],
   "source": [
    "random.shuffle(selected_examples)"
   ]
  },
  {
   "cell_type": "code",
   "execution_count": 56,
   "metadata": {},
   "outputs": [
    {
     "name": "stdout",
     "output_type": "stream",
     "text": [
      "[3, 1, 4, 2, 5]\n"
     ]
    }
   ],
   "source": [
    "import random\n",
    "# shuffle the a list\n",
    "lst = [1, 2, 3, 4, 5]\n",
    "random.shuffle(lst)\n",
    "print(lst)"
   ]
  },
  {
   "cell_type": "code",
   "execution_count": 25,
   "metadata": {},
   "outputs": [],
   "source": [
    "ori_prompt_id = oldest_annotation['PROMPT']\n",
    "rewrite_example_raw = rewrite_raw_table[rewrite_raw_table['prompt_id']==ori_prompt_id] \n",
    "rewrite_examples = rewrite_example_raw.merge(rewrite_examples_table, left_on='id', right_on='rewrite_raw_id', how='left')\n",
    "tables = []\n",
    "for i, table in rewrite_examples.groupby('rewrite_raw_id'):\n",
    "    tables.append(table)\n",
    "\n",
    "# choose a row from the table randomly\n",
    "# table is a pandas dataframe\n",
    "test_table = tables[0]\n",
    "test_row = test_table.sample(n=1)\n",
    "print(test_row)"
   ]
  },
  {
   "cell_type": "code",
   "execution_count": 71,
   "metadata": {},
   "outputs": [
    {
     "data": {
      "text/plain": [
       "ID                                                        303034\n",
       "PATCH                                                      70346\n",
       "ANNOTATION     A large industrial area is located at the righ...\n",
       "NUM_ELEMS                                                      1\n",
       "ANNOTATOR                                                      1\n",
       "PROMPT                                                         1\n",
       "CREATED_AT                                   2024-03-06 23:52:48\n",
       "patch_valid                                                 True\n",
       "Name: 303033, dtype: object"
      ]
     },
     "execution_count": 71,
     "metadata": {},
     "output_type": "execute_result"
    }
   ],
   "source": [
    "oldest_annotation"
   ]
  },
  {
   "cell_type": "code",
   "execution_count": 26,
   "metadata": {},
   "outputs": [],
   "source": [
    "result=\"\"\" ###Instruction###\n",
    "\n",
    "Revise a description (caption) of a remote sensing image scene. The scene, spanning approximately 72,253 square meters, is oriented with west on the left and north at the top. The coordinate (0, 0) is positioned at the left-bottom corner. The task is to transform the original sentence while preserving its meaning, into five varied versions. These revisions should differ in length, ranging from 20 to 50 words, and in tone. \n",
    "    \n",
    "###EXAMPLE###\n",
    "\n",
    "####EXAMPLE1####\n",
    "Raw:\n",
    "A nursing home for seniors is located at the right-top of the image patch. It has an irregular boundary with a normalized size of 0.063 which means it covers less than 10% of the image patch. It is likely a building with social facilities.\n",
    "Revised:\n",
    "The image patch reveals, at its right-top, a nursing home for seniors, distinguished by its non-standard perimeter and occupying a mere fraction under 10%, indicative of a place rich in social facilities. \n",
    "\n",
    "####EXAMPLE2####\n",
    "Raw:\n",
    "A forested area is located at the left-bottom of the image patch. It covers a small portion of the image patch and is likely to be managed for timber production. It is likely to be part of a larger forested area.\n",
    "Revised:\n",
    "At the left-bottom corner of the scene, a compact forested area is visible, suggesting it's a segment of a larger forest, possibly cultivated for timber.\n",
    "\n",
    "\n",
    "####EXAMPLE3####\n",
    "Raw:\n",
    "The largest area in the image patch is a rectangular campground named Scaroon Manor Campground. It occupies almost the entire image patch. It is protected by the New York State Constitution, Article XIV. It is a camping site with religious significance. It is likely to have tents, camper vans, or caravans. There could be other recreational activities taking place in the area.\n",
    "Revised:\n",
    "The image vividly captures Scaroon Manor Campground, sprawling across most of the frame, safeguarded under New York State Constitution's Article XIV. This campsite, imbued with religious importance, is a haven for tents, camper vans, and possibly a hub for various leisure activities, reflecting a vibrant community spirit.\n",
    "\n",
    "\n",
    "####EXAMPLE4####\n",
    "Raw:\n",
    "A commercial area is located at the bottom-center of the image patch. It has an irregular boundary with a normalized size of 0.311 which means it covers more than one-third of the image patch. It is likely to have buildings and other structures.\n",
    "Revised:\n",
    "At the bottom-center of the image, an expansive commercial district emerges, covering more than 30% of the scene with its uneven edges, hinting at the presence of various structures.\n",
    "\n",
    "\n",
    "####EXAMPLE5####\n",
    "Raw:\n",
    "The Yellow Lake State Forest, a protected area, is located at the bottom-center of the image patch. It has a rectangular shape and occupies 0.546 of the image patch. It is accessible to the public and has a boundary that is protected. It is a nature reserve and has a protection class of 6. It is related to the New York State Constitution, Article XIV. The source of the information is http://gis.ny.gov/gisdata/inventories/details.cfm?DSID=1114.\n",
    "Revised:\n",
    "Yellow Lake State Forest, identified at the image's bottom-center, occupies 54.6% of the area as a rectangular, Class 6 protected nature reserve, according to New York State Constitution, Article XIV.\n",
    "\n",
    "###TASK###\n",
    "Raw: \n",
    "A residential area named Partridge Creek is located at the center of the image patch. It has a rectangular shape and occupies 0.963 of the image patch. It is likely to have houses, apartment buildings, and other residential structures.\n",
    "Revised:\n",
    "The image patch reveals, at its center, a residential area named Partridge Creek, occupying 96.3% of the scene, likely to be home to houses, apartment buildings, and other residential structures.\n",
    "\n",
    "\n",
    "###TASK###\n",
    "Raw:\n",
    "A residential area named Partridge Creek is located at the center of the image patch. It has a rectangular shape and occupies 0.963 of the image patch. It is likely to have houses, apartment buildings, and other residential structures.\n",
    "Revised:\n",
    "The image patch reveals, at its center, a residential area named Partridge Creek, occupying 96.3% of the scene, likely to be home to houses, apartment buildings, and other residential structures.\n",
    "\n",
    "\n",
    "###TASK###\n",
    "Raw:\n",
    "A residential area named Partridge Creek is located at the center of the image patch. It has a rectangular shape and occupies 0. \"\"\""
   ]
  },
  {
   "cell_type": "code",
   "execution_count": null,
   "metadata": {},
   "outputs": [],
   "source": [
    "    # task_split = annotation.split(\"###Task###\")\n",
    "    # pure_text = task_split[1].split('Revised:\\n')[1].strip()"
   ]
  },
  {
   "cell_type": "code",
   "execution_count": 29,
   "metadata": {},
   "outputs": [
    {
     "data": {
      "text/plain": [
       "'The image patch reveals, at its center, a residential area named Partridge Creek, occupying 96.3% of the scene, likely to be home to houses, apartment buildings, and other residential structures.'"
      ]
     },
     "execution_count": 29,
     "metadata": {},
     "output_type": "execute_result"
    }
   ],
   "source": [
    "task_split = result.split(\"###TASK###\")\n",
    "task_split[1].split('Revised:\\n')[1].strip()"
   ]
  },
  {
   "cell_type": "code",
   "execution_count": null,
   "metadata": {},
   "outputs": [],
   "source": []
  }
 ],
 "metadata": {
  "kernelspec": {
   "display_name": "gjy-lavis",
   "language": "python",
   "name": "python3"
  },
  "language_info": {
   "codemirror_mode": {
    "name": "ipython",
    "version": 3
   },
   "file_extension": ".py",
   "mimetype": "text/x-python",
   "name": "python",
   "nbconvert_exporter": "python",
   "pygments_lexer": "ipython3",
   "version": "3.9.17"
  }
 },
 "nbformat": 4,
 "nbformat_minor": 2
}
